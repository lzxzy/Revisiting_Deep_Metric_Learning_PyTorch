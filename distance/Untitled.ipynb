{
 "cells": [
  {
   "cell_type": "code",
   "execution_count": 1,
   "id": "237fcd14-f707-40d0-8fa1-79b728565f52",
   "metadata": {},
   "outputs": [],
   "source": [
    "from einops import rearrange, repeat, reduce"
   ]
  },
  {
   "cell_type": "code",
   "execution_count": 2,
   "id": "49e3af03-732a-49c0-8fca-63645deeb6f6",
   "metadata": {},
   "outputs": [],
   "source": [
    "import torch"
   ]
  },
  {
   "cell_type": "code",
   "execution_count": 3,
   "id": "386199a9-fd19-4335-86c8-2834a50d8f43",
   "metadata": {},
   "outputs": [],
   "source": [
    "from wasserstein import wasserstein_dist"
   ]
  },
  {
   "cell_type": "code",
   "execution_count": 4,
   "id": "02d430ca-10a1-4bc5-95ef-4069a0300d4b",
   "metadata": {},
   "outputs": [],
   "source": [
    "mean = torch.ones((2,2,4))\n",
    "log_var = torch.randint(3, (2, 2, 4)).to(torch.float32)"
   ]
  },
  {
   "cell_type": "code",
   "execution_count": 5,
   "id": "e9b518d8-952b-44fe-b2a2-a0bb8455da94",
   "metadata": {},
   "outputs": [],
   "source": [
    "mean.requires_grad=True\n",
    "log_var.requires_grad=True"
   ]
  },
  {
   "cell_type": "code",
   "execution_count": 6,
   "id": "e146ac6e-3cb0-44d0-8201-76d0b8ba43b5",
   "metadata": {},
   "outputs": [
    {
     "data": {
      "text/plain": [
       "tensor([[[1., 2., 1., 0.],\n",
       "         [0., 0., 2., 0.]],\n",
       "\n",
       "        [[0., 0., 0., 2.],\n",
       "         [1., 2., 2., 1.]]], requires_grad=True)"
      ]
     },
     "execution_count": 6,
     "metadata": {},
     "output_type": "execute_result"
    }
   ],
   "source": [
    "log_var"
   ]
  },
  {
   "cell_type": "code",
   "execution_count": 7,
   "id": "c468b240-116e-4b66-9eb8-e7795e20efaa",
   "metadata": {},
   "outputs": [],
   "source": [
    "dist = wasserstein_dist(mean, log_var)"
   ]
  },
  {
   "cell_type": "code",
   "execution_count": 8,
   "id": "f9c9d649-6aaf-4060-b4f3-69674dd04924",
   "metadata": {},
   "outputs": [],
   "source": [
    "loss = torch.sum(dist)"
   ]
  },
  {
   "cell_type": "code",
   "execution_count": 9,
   "id": "6c4b34f6-afe6-4174-b06c-4779a3ebce7c",
   "metadata": {},
   "outputs": [],
   "source": [
    "loss.backward()"
   ]
  },
  {
   "cell_type": "code",
   "execution_count": 10,
   "id": "e49d2af2-34aa-43d0-9863-cdd01232a9f9",
   "metadata": {},
   "outputs": [
    {
     "data": {
      "text/plain": [
       "tensor([[[1., 1., 1., 1.],\n",
       "         [1., 1., 1., 1.]],\n",
       "\n",
       "        [[1., 1., 1., 1.],\n",
       "         [1., 1., 1., 1.]]], requires_grad=True)"
      ]
     },
     "execution_count": 10,
     "metadata": {},
     "output_type": "execute_result"
    }
   ],
   "source": [
    "mean"
   ]
  },
  {
   "cell_type": "code",
   "execution_count": 11,
   "id": "4ad9aec5-f195-4bb0-b526-65cb07ad8899",
   "metadata": {},
   "outputs": [
    {
     "data": {
      "text/plain": [
       "tensor([[[0., 0., 0., 0.],\n",
       "         [0., 0., 0., 0.]],\n",
       "\n",
       "        [[0., 0., 0., 0.],\n",
       "         [0., 0., 0., 0.]]])"
      ]
     },
     "execution_count": 11,
     "metadata": {},
     "output_type": "execute_result"
    }
   ],
   "source": [
    "mean.grad"
   ]
  },
  {
   "cell_type": "code",
   "execution_count": 12,
   "id": "c0415511-83ca-4290-bb6b-b8f77c7737bd",
   "metadata": {},
   "outputs": [
    {
     "data": {
      "text/plain": [
       "tensor([[[ 0.2674,  0.4409,  0.2674,  0.1622],\n",
       "         [-0.3770, -0.3770, -1.0247, -0.3770]],\n",
       "\n",
       "        [[-0.1622, -0.1622, -0.1622, -0.4409],\n",
       "         [ 0.6215,  1.0247,  1.0247,  0.6215]]])"
      ]
     },
     "execution_count": 12,
     "metadata": {},
     "output_type": "execute_result"
    }
   ],
   "source": [
    "log_var.grad"
   ]
  },
  {
   "cell_type": "code",
   "execution_count": 13,
   "id": "6c7d175c-6452-459f-a9db-1e1e673a81b6",
   "metadata": {},
   "outputs": [
    {
     "data": {
      "text/plain": [
       "torch.Size([2, 2, 4])"
      ]
     },
     "execution_count": 13,
     "metadata": {},
     "output_type": "execute_result"
    }
   ],
   "source": [
    "log_var.shape"
   ]
  },
  {
   "cell_type": "code",
   "execution_count": 14,
   "id": "084d847b-ff2f-4610-ae35-74b1c1c6eb79",
   "metadata": {},
   "outputs": [],
   "source": [
    "log_var_mean = reduce(log_var, 'b h d -> b h', reduction='mean')"
   ]
  },
  {
   "cell_type": "code",
   "execution_count": 22,
   "id": "eb29aa3a-15f5-43fa-b0ed-bf4c4f66acbb",
   "metadata": {},
   "outputs": [],
   "source": [
    "co_var = torch.matmul(rearrange(log_var_mean, 'b h -> b h 1'),rearrange(log_var_mean, 'b h -> b 1 h'))"
   ]
  },
  {
   "cell_type": "code",
   "execution_count": 15,
   "id": "84cf6093-bfb6-452f-9a73-5f97d4692ca2",
   "metadata": {},
   "outputs": [
    {
     "data": {
      "text/plain": [
       "torch.Size([2, 2])"
      ]
     },
     "execution_count": 15,
     "metadata": {},
     "output_type": "execute_result"
    }
   ],
   "source": [
    "dist.shape"
   ]
  },
  {
   "cell_type": "code",
   "execution_count": 27,
   "id": "88f6ee2f-94cc-47bf-96f1-54da7b0f17d4",
   "metadata": {},
   "outputs": [
    {
     "data": {
      "text/plain": [
       "torch.Size([2, 2])"
      ]
     },
     "execution_count": 27,
     "metadata": {},
     "output_type": "execute_result"
    }
   ],
   "source": [
    "torch.diagonal(co_var, dim1=-2, dim2=-1).shape"
   ]
  },
  {
   "cell_type": "code",
   "execution_count": 14,
   "id": "0bc24502-e53e-4aba-b53f-84b3ebe72e8e",
   "metadata": {},
   "outputs": [
    {
     "data": {
      "text/plain": [
       "tensor([[0.0000, 0.6736],\n",
       "        [0.6736, 0.0000]], grad_fn=<AsStridedBackward>)"
      ]
     },
     "execution_count": 14,
     "metadata": {},
     "output_type": "execute_result"
    }
   ],
   "source": [
    "dist"
   ]
  },
  {
   "cell_type": "code",
   "execution_count": null,
   "id": "07942567-234e-401e-aa41-c92c989926c3",
   "metadata": {},
   "outputs": [],
   "source": []
  }
 ],
 "metadata": {
  "kernelspec": {
   "display_name": "Python 3 (ipykernel)",
   "language": "python",
   "name": "python3"
  },
  "language_info": {
   "codemirror_mode": {
    "name": "ipython",
    "version": 3
   },
   "file_extension": ".py",
   "mimetype": "text/x-python",
   "name": "python",
   "nbconvert_exporter": "python",
   "pygments_lexer": "ipython3",
   "version": "3.7.0"
  }
 },
 "nbformat": 4,
 "nbformat_minor": 5
}
